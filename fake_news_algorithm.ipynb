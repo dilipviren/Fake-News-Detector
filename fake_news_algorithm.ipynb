{
 "cells": [
  {
   "cell_type": "code",
   "execution_count": 3,
   "metadata": {},
   "outputs": [],
   "source": [
    "# import required to run pipeline\n",
    "\n",
    "import pandas as pd\n",
    "import string\n",
    "from nltk.corpus import stopwords\n",
    "from sklearn.feature_extraction.text import CountVectorizer\n",
    "from sklearn.feature_extraction.text import TfidfTransformer\n",
    "from sklearn.naive_bayes import MultinomialNB\n",
    "from joblib import dump, load \n",
    "\n",
    "# additional imports \n",
    "\n",
    "from sklearn.model_selection import train_test_split\n",
    "from sklearn.metrics import classification_report, confusion_matrix"
   ]
  },
  {
   "cell_type": "code",
   "execution_count": 5,
   "metadata": {},
   "outputs": [],
   "source": [
    "# can also import the below function from 'word_processor'\n",
    "\n",
    "def text_process(mess):\n",
    "    no_punc=[char for char in mess if char not in string.punctuation]\n",
    "    no_punc=''.join(no_punc)\n",
    "    return [word for word in no_punc.split() if word.lower() not in stopwords.words('english')]\n"
   ]
  },
  {
   "cell_type": "code",
   "execution_count": 6,
   "metadata": {},
   "outputs": [],
   "source": [
    "# reading in dataset\n",
    "\n",
    "data=pd.read_csv('dataset.csv')\n",
    "\n",
    "# news text is in column name 'body' and label is in column name 'label'\n",
    "\n",
    "# sampling the dataset. this step can be skipped for smaller datasets \n",
    "\n",
    "sample=data.sample(frac=0.2)\n",
    "\n",
    "# frac specifies the size of sample proportional to dataset\n",
    "\n",
    "# if a training and testing dataset is required, the above sampling can repeated to produce a test dataset\n",
    "\n",
    "# train test split if required: \n",
    "\n",
    "# test_sample=data.sample(frac=)\n",
    "# msgtrain,msgtest,labeltrain,labeltest=train_test_split(data['body'],data['label'],\n",
    "# test_size=0.2,random_state=101)"
   ]
  },
  {
   "cell_type": "code",
   "execution_count": null,
   "metadata": {},
   "outputs": [],
   "source": [
    "# loading the algorithm workflow into a pipeline\n",
    "\n",
    "pipeline=load('youarefakenews.joblib')\n",
    "\n",
    "# pipeline can now be used to fit model \n",
    "\n",
    "pipeline.fit(sample['body'],sample['label'])\n",
    "\n",
    "# pipeline object can be used to test / predict \n",
    "\n",
    "predictions=pipeline.predict('''test / prediction data''')\n",
    "\n",
    "# summarising results for testing \n",
    "\n",
    "# print(classification_report(predictions,labeltest)\n",
    "# print(confusion_matrix(predictions,labeltest))"
   ]
  }
 ],
 "metadata": {
  "kernelspec": {
   "display_name": "Python 3",
   "language": "python",
   "name": "python3"
  },
  "language_info": {
   "codemirror_mode": {
    "name": "ipython",
    "version": 3
   },
   "file_extension": ".py",
   "mimetype": "text/x-python",
   "name": "python",
   "nbconvert_exporter": "python",
   "pygments_lexer": "ipython3",
   "version": "3.7.6"
  }
 },
 "nbformat": 4,
 "nbformat_minor": 4
}
